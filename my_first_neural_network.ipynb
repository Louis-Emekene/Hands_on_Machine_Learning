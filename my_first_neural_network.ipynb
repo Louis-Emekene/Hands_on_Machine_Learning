{
  "nbformat": 4,
  "nbformat_minor": 0,
  "metadata": {
    "colab": {
      "provenance": [],
      "authorship_tag": "ABX9TyPcpluVstBojQkp4UuO+CZ4",
      "include_colab_link": true
    },
    "kernelspec": {
      "name": "python3",
      "display_name": "Python 3"
    },
    "language_info": {
      "name": "python"
    }
  },
  "cells": [
    {
      "cell_type": "markdown",
      "metadata": {
        "id": "view-in-github",
        "colab_type": "text"
      },
      "source": [
        "<a href=\"https://colab.research.google.com/github/Louis-Emekene/Hands_on_Machine_Learning/blob/main/my_first_neural_network.ipynb\" target=\"_parent\"><img src=\"https://colab.research.google.com/assets/colab-badge.svg\" alt=\"Open In Colab\"/></a>"
      ]
    },
    {
      "cell_type": "code",
      "execution_count": 1,
      "metadata": {
        "id": "H5jqhF5spJiF"
      },
      "outputs": [],
      "source": [
        "#imports here\n",
        "import torch\n",
        "import numpy as np\n",
        "import pandas as pd\n",
        "import matplotlib.pyplot as plt\n",
        "%matplotlib inline\n",
        "import torch\n",
        "from torch import nn\n",
        "from torch import optim\n",
        "import torch.nn.functional as F\n",
        "from torch.utils.data import DataLoader\n",
        "from torchvision import transforms\n",
        "from torchvision import datasets"
      ]
    },
    {
      "cell_type": "code",
      "source": [
        "class Net(nn.Module):\n",
        "  def __init__(self):\n",
        "    super(Net, self).__init__()\n",
        "\n",
        "    self.fc1 = nn.Linear(28 * 28, 10)\n",
        "    self.relu1 = nn.ReLU()\n",
        "    self.fc2 = nn.Linear(10, 1)\n",
        "    self.relu2 = nn.ReLU()\n",
        "\n",
        "  def forward(self, x):\n",
        "    #flatten image input\n",
        "    x = x.view(-1, 28 * 28)\n",
        "\n",
        "    x = self.fc1(x)\n",
        "    x = self.relu1(x)\n",
        "    x = self.fc2(x)\n",
        "    x = self.relu2(x)\n",
        "\n",
        "    return x\n",
        "\n",
        "# initialize the model\n",
        "model = Net()\n"
      ],
      "metadata": {
        "id": "EyURNkQ48U5e"
      },
      "execution_count": 4,
      "outputs": []
    },
    {
      "cell_type": "code",
      "source": [
        "print(model)"
      ],
      "metadata": {
        "colab": {
          "base_uri": "https://localhost:8080/"
        },
        "id": "d3kzZCjDbUFj",
        "outputId": "4e8d6a30-0212-4d90-e72b-34e41a8be03e"
      },
      "execution_count": 5,
      "outputs": [
        {
          "output_type": "stream",
          "name": "stdout",
          "text": [
            "Net(\n",
            "  (fc1): Linear(in_features=784, out_features=10, bias=True)\n",
            "  (relu1): ReLU()\n",
            "  (fc2): Linear(in_features=10, out_features=1, bias=True)\n",
            "  (relu2): ReLU()\n",
            ")\n"
          ]
        }
      ]
    },
    {
      "cell_type": "code",
      "source": [
        "scripted = torch.jit.script(model)\n",
        "torch.jit.save(scripted, \"mnist_data_model.pt\")"
      ],
      "metadata": {
        "id": "209ZKSSbbbKi"
      },
      "execution_count": 6,
      "outputs": []
    },
    {
      "cell_type": "code",
      "source": [],
      "metadata": {
        "id": "BYvfGGt-jIdi"
      },
      "execution_count": null,
      "outputs": []
    }
  ]
}