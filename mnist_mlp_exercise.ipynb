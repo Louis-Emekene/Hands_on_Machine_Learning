{
  "cells": [
    {
      "cell_type": "markdown",
      "metadata": {
        "id": "view-in-github",
        "colab_type": "text"
      },
      "source": [
        "<a href=\"https://colab.research.google.com/github/Louis-Emekene/Hands_on_Machine_Learning/blob/main/mnist_mlp_exercise.ipynb\" target=\"_parent\"><img src=\"https://colab.research.google.com/assets/colab-badge.svg\" alt=\"Open In Colab\"/></a>"
      ]
    },
    {
      "cell_type": "markdown",
      "metadata": {
        "id": "jASD9EYZ-G3i"
      },
      "source": [
        "# Multi-Layer Perceptron, MNIST\n",
        "---\n",
        "In this notebook, we will train an MLP to classify images from the [MNIST database](http://yann.lecun.com/exdb/mnist/) hand-written digit database.\n",
        "\n",
        "The process will be broken down into the following steps:\n",
        ">1. Load and visualize the data\n",
        "2. Define a neural network\n",
        "3. Train the model\n",
        "4. Evaluate the performance of our trained model on a test dataset!\n",
        "\n",
        "Before we begin, we have to import the necessary libraries for working with data and PyTorch, as well as a few more for convenience."
      ]
    },
    {
      "cell_type": "code",
      "execution_count": null,
      "metadata": {
        "id": "p9ZvtnQ7-G3m"
      },
      "outputs": [],
      "source": [
        "!pip install -q -r requirements.txt &> /dev/null"
      ]
    },
    {
      "cell_type": "markdown",
      "metadata": {
        "id": "p-dj-xOT-G3o"
      },
      "source": [
        "> Now please RESTART THE KERNEL IN YOUR NOTEBOOK then continue execution with the next cell."
      ]
    },
    {
      "cell_type": "code",
      "execution_count": 1,
      "metadata": {
        "id": "PMdh9c5r-G3o"
      },
      "outputs": [],
      "source": [
        "# import libraries\n",
        "import torch\n",
        "import numpy as np\n",
        "# Progress bar\n",
        "from tqdm import tqdm\n",
        "# Will use this to figure out the number of CPUs available\n",
        "import multiprocessing"
      ]
    },
    {
      "cell_type": "markdown",
      "metadata": {
        "id": "Jyv8cHs8-G3o"
      },
      "source": [
        "---\n",
        "## Load and Visualize the [Data](http://pytorch.org/docs/stable/torchvision/datasets.html)\n",
        "\n",
        "Downloading may take a few moments, and you should see your progress as the data is loading. You may also choose to change the `batch_size` if you want to load more data at a time.\n",
        "\n",
        "This cell will create DataLoaders for each of our datasets."
      ]
    },
    {
      "cell_type": "code",
      "execution_count": 2,
      "metadata": {
        "id": "7CE54KWJ-G3p"
      },
      "outputs": [],
      "source": [
        "# The MNIST datasets are hosted on yann.lecun.com that has moved under CloudFlare protection\n",
        "# Run this script to enable the datasets download\n",
        "# Reference: https://github.com/pytorch/vision/issues/1938\n",
        "\n",
        "from six.moves import urllib\n",
        "opener = urllib.request.build_opener()\n",
        "opener.addheaders = [('User-agent', 'Mozilla/5.0')]\n",
        "urllib.request.install_opener(opener)"
      ]
    },
    {
      "cell_type": "markdown",
      "metadata": {
        "id": "m3A9GoTD-G3p"
      },
      "source": [
        "NOTE: when executing the following cell you will see a warning `The given NumPy array is not writeable ...`. Please ignore the warning, is due to a little bug in pytorch 1.9.0 that is harmless."
      ]
    },
    {
      "cell_type": "code",
      "execution_count": 3,
      "metadata": {
        "colab": {
          "base_uri": "https://localhost:8080/"
        },
        "id": "ENJmsBYD-G3p",
        "outputId": "37502871-f526-441c-8ed6-dea5f678ba94"
      },
      "outputs": [
        {
          "output_type": "stream",
          "name": "stdout",
          "text": [
            "Downloading http://yann.lecun.com/exdb/mnist/train-images-idx3-ubyte.gz\n",
            "Downloading http://yann.lecun.com/exdb/mnist/train-images-idx3-ubyte.gz to data/MNIST/raw/train-images-idx3-ubyte.gz\n"
          ]
        },
        {
          "output_type": "stream",
          "name": "stderr",
          "text": [
            "100%|██████████| 9912422/9912422 [00:00<00:00, 106920763.60it/s]\n"
          ]
        },
        {
          "output_type": "stream",
          "name": "stdout",
          "text": [
            "Extracting data/MNIST/raw/train-images-idx3-ubyte.gz to data/MNIST/raw\n",
            "\n",
            "Downloading http://yann.lecun.com/exdb/mnist/train-labels-idx1-ubyte.gz\n",
            "Downloading http://yann.lecun.com/exdb/mnist/train-labels-idx1-ubyte.gz to data/MNIST/raw/train-labels-idx1-ubyte.gz\n"
          ]
        },
        {
          "output_type": "stream",
          "name": "stderr",
          "text": [
            "100%|██████████| 28881/28881 [00:00<00:00, 12782071.73it/s]\n"
          ]
        },
        {
          "output_type": "stream",
          "name": "stdout",
          "text": [
            "Extracting data/MNIST/raw/train-labels-idx1-ubyte.gz to data/MNIST/raw\n",
            "\n",
            "Downloading http://yann.lecun.com/exdb/mnist/t10k-images-idx3-ubyte.gz\n",
            "Downloading http://yann.lecun.com/exdb/mnist/t10k-images-idx3-ubyte.gz to data/MNIST/raw/t10k-images-idx3-ubyte.gz\n"
          ]
        },
        {
          "output_type": "stream",
          "name": "stderr",
          "text": [
            "100%|██████████| 1648877/1648877 [00:00<00:00, 26067504.43it/s]\n"
          ]
        },
        {
          "output_type": "stream",
          "name": "stdout",
          "text": [
            "Extracting data/MNIST/raw/t10k-images-idx3-ubyte.gz to data/MNIST/raw\n",
            "\n",
            "Downloading http://yann.lecun.com/exdb/mnist/t10k-labels-idx1-ubyte.gz\n",
            "Downloading http://yann.lecun.com/exdb/mnist/t10k-labels-idx1-ubyte.gz to data/MNIST/raw/t10k-labels-idx1-ubyte.gz\n"
          ]
        },
        {
          "output_type": "stream",
          "name": "stderr",
          "text": [
            "100%|██████████| 4542/4542 [00:00<00:00, 773342.89it/s]\n"
          ]
        },
        {
          "output_type": "stream",
          "name": "stdout",
          "text": [
            "Extracting data/MNIST/raw/t10k-labels-idx1-ubyte.gz to data/MNIST/raw\n",
            "\n",
            "Using 48000 examples for training and 12000 for validation\n",
            "Using 10000 for testing\n"
          ]
        }
      ],
      "source": [
        "from torchvision import datasets\n",
        "import torchvision.transforms as transforms\n",
        "\n",
        "# number of subprocesses to use for data loading\n",
        "# We set this equal to the number of CPUs available\n",
        "# in this machine\n",
        "num_workers = multiprocessing.cpu_count()\n",
        "\n",
        "# how many samples per batch to load. You can experiment\n",
        "# with this parameter to try to improve performances\n",
        "batch_size = 64\n",
        "\n",
        "# The output of torchvision datasets are PILImage images of range [0, 1].\n",
        "# We transform them to Tensors of normalized range [-1, 1]\n",
        "transform = transforms.Compose(\n",
        "    [\n",
        "        # This transforms takes a np.array or a PIL image of integers\n",
        "        # in the range 0-255 and transforms it to a float tensor in the\n",
        "        # range 0.0 - 1.0\n",
        "        transforms.ToTensor(),\n",
        "        # This then renormalize the tensor to be between -1.0 and 1.0,\n",
        "        # which is a better range for modern activation functions like\n",
        "        # Relu\n",
        "        transforms.Normalize((0.5), (0.5)),\n",
        "    ]\n",
        ")\n",
        "\n",
        "\n",
        "# Get train, validation and test\n",
        "\n",
        "# Let's start with train and validation\n",
        "trainval_data = datasets.MNIST(\n",
        "    root=\"data\", train=True, download=True, transform=transform\n",
        ")\n",
        "\n",
        "# Split in train and validation\n",
        "# NOTE: we set the generator with a fixed random seed for reproducibility\n",
        "train_len = int(len(trainval_data) * 0.8)\n",
        "val_len = len(trainval_data) - train_len\n",
        "print(f\"Using {train_len} examples for training and {val_len} for validation\")\n",
        "train_subset, val_subset = torch.utils.data.random_split(\n",
        "    trainval_data, [train_len, val_len], generator=torch.Generator().manual_seed(42)\n",
        ")\n",
        "\n",
        "train_loader = torch.utils.data.DataLoader(\n",
        "    dataset=train_subset, shuffle=True, batch_size=batch_size, num_workers=num_workers\n",
        ")\n",
        "val_loader = torch.utils.data.DataLoader(\n",
        "    dataset=val_subset, shuffle=False, batch_size=batch_size, num_workers=num_workers\n",
        ")\n",
        "\n",
        "# Get test data\n",
        "test_data = datasets.MNIST(root=\"data\", train=False, download=True, transform=transform)\n",
        "test_loader = torch.utils.data.DataLoader(\n",
        "    test_data, batch_size=batch_size, num_workers=num_workers\n",
        ")\n",
        "print(f\"Using {len(test_data)} for testing\")"
      ]
    },
    {
      "cell_type": "markdown",
      "metadata": {
        "id": "5-s7P_nW-G3r"
      },
      "source": [
        "### Visualize a Batch of Training Data\n",
        "\n",
        "The first step in a classification task is to take a look at the data, make sure it is loaded in correctly, then make any initial observations about patterns in that data."
      ]
    },
    {
      "cell_type": "code",
      "execution_count": 4,
      "metadata": {
        "id": "wviEopTp-G3s"
      },
      "outputs": [],
      "source": [
        "# import matplotlib.pyplot as plt\n",
        "# %matplotlib inline\n",
        "\n",
        "# # obtain one batch of training images\n",
        "# dataiter = iter(train_loader)\n",
        "# images, labels = dataiter.next()\n",
        "# images = images.numpy()\n",
        "\n",
        "# # plot the images in the batch, along with the corresponding labels\n",
        "# fig, subs = plt.subplots(2, 10, figsize=(25, 4))\n",
        "# for idx, sub in zip(np.arange(20), subs.flatten()):\n",
        "#     sub.imshow(np.squeeze(images[idx]), cmap='gray')\n",
        "#     # print out the correct label for each image\n",
        "#     # .item() gets the value contained in a Tensor\n",
        "#     sub.set_title(str(labels[idx].item()))\n",
        "#     sub.axis(\"off\")"
      ]
    },
    {
      "cell_type": "markdown",
      "metadata": {
        "id": "azZR-31--G3s"
      },
      "source": [
        "### View an Image in More Detail"
      ]
    },
    {
      "cell_type": "code",
      "execution_count": 5,
      "metadata": {
        "id": "UsrHBvIC-G3t"
      },
      "outputs": [],
      "source": [
        "# img = np.squeeze(images[1])\n",
        "\n",
        "# fig, sub = plt.subplots(figsize = (12,12))\n",
        "# sub.imshow(img, cmap='gray')\n",
        "# width, height = img.shape\n",
        "# thresh = img.max()/2.5\n",
        "# for x in range(width):\n",
        "#     for y in range(height):\n",
        "#         val = round(img[x][y],2) if img[x][y] !=0 else 0\n",
        "#         sub.annotate(str(val), xy=(y,x),\n",
        "#                     horizontalalignment='center',\n",
        "#                     verticalalignment='center',\n",
        "#                     color='white' if img[x][y]<thresh else 'black')\n",
        "#         sub.axis(\"off\")"
      ]
    },
    {
      "cell_type": "markdown",
      "metadata": {
        "id": "4BQHbdp6-G3t"
      },
      "source": [
        "---\n",
        "## Define the Network [Architecture](http://pytorch.org/docs/stable/nn.html)\n",
        "\n",
        "The architecture will be responsible for seeing as input a 784-dim Tensor of pixel values for each image, and producing a Tensor of length 10 (our number of classes) that indicates the class scores for an input image. This particular example uses two hidden layers and dropout to avoid overfitting."
      ]
    },
    {
      "cell_type": "code",
      "execution_count": 6,
      "metadata": {
        "colab": {
          "base_uri": "https://localhost:8080/"
        },
        "id": "x7cHhNwO-G3t",
        "outputId": "f9040737-bccd-4d1d-c9b5-e869f13706c4"
      },
      "outputs": [
        {
          "output_type": "stream",
          "name": "stdout",
          "text": [
            "Net(\n",
            "  (fc1): Linear(in_features=784, out_features=512, bias=True)\n",
            "  (dropout_1): Dropout(p=0.3, inplace=False)\n",
            "  (fc2): Linear(in_features=512, out_features=512, bias=True)\n",
            "  (dropout_2): Dropout(p=0.3, inplace=False)\n",
            "  (fc3): Linear(in_features=512, out_features=10, bias=True)\n",
            ")\n"
          ]
        }
      ],
      "source": [
        "import torch.nn as nn\n",
        "import torch.nn.functional as F\n",
        "\n",
        "## TODO: Define the NN architecture\n",
        "class Net(nn.Module):\n",
        "    def __init__(self):\n",
        "        super(Net, self).__init__()\n",
        "\n",
        "        # Number of hidden nodes in each layer\n",
        "        hidden_1 = 512\n",
        "        hidden_2 = 512\n",
        "        dropout = 0.3\n",
        "\n",
        "        # linear layer (784 -> hidden_1)\n",
        "        self.fc1 = nn.Linear(28 * 28, hidden_1)\n",
        "        self.dropout_1 = nn.Dropout(dropout)\n",
        "\n",
        "        # linear layer (hidden_1 -> hidden_2)\n",
        "        self.fc2 = nn.Linear(hidden_1, hidden_2)\n",
        "        self.dropout_2 = nn.Dropout(dropout)\n",
        "\n",
        "        # linear layer (hidden_2 -> 10)\n",
        "        self.fc3 = nn.Linear(hidden_2, 10)\n",
        "\n",
        "    def forward(self, x):\n",
        "        # flatten image input\n",
        "        x = x.view(-1, 28 * 28)\n",
        "\n",
        "        # add hidden layer with Relu activation function\n",
        "        x = F.relu(self.fc1(x))\n",
        "        #add dropout layer\n",
        "        x = self.dropout_1(x)\n",
        "\n",
        "        # add hidden layer with Relu activation function\n",
        "        x = F.relu(self.fc2(x))\n",
        "        #add dropout layer\n",
        "        x = self.dropout_2(x)\n",
        "\n",
        "        # add output layer\n",
        "        x = self.fc3(x)\n",
        "\n",
        "        return x\n",
        "\n",
        "# initialize the NN\n",
        "model = Net()\n",
        "\n",
        "# NOTE: this is NOT the structure of the network, but merely a\n",
        "# visualization of the layers that are present. For very simple\n",
        "# architectures the two might be similar, but for more complicated\n",
        "# network they will not. See the next cell for a possible way of\n",
        "# visualizing the real structure of the network\n",
        "print(model)"
      ]
    },
    {
      "cell_type": "markdown",
      "metadata": {
        "id": "CBIPIlyO-G3u"
      },
      "source": [
        "## (Bonus: visualize the structure of your network)\n",
        "You can visualize your achitecture by using netron.app. Just execute the following cell (which will save the network to a file called \"mnist_network.pt\" in this directory), then download the produced `mnist_network.pt` to your computer. Finally, go to [Netron.app](https://netron.app) and click on `Open Model`, and select the file you just downloaded."
      ]
    },
    {
      "cell_type": "code",
      "execution_count": 7,
      "metadata": {
        "id": "0oCTrix3-G3u"
      },
      "outputs": [],
      "source": [
        "scripted = torch.jit.script(model)\n",
        "torch.jit.save(scripted, \"mnist_network.pt\")"
      ]
    },
    {
      "cell_type": "markdown",
      "metadata": {
        "id": "qLO0L7zS-G3u"
      },
      "source": [
        "###  Specify [Loss Function](http://pytorch.org/docs/stable/nn.html#loss-functions) and [Optimizer](http://pytorch.org/docs/stable/optim.html)\n",
        "\n",
        "It's recommended that you use cross-entropy loss for classification. If you look at the documentation (linked above), you can see that PyTorch's cross entropy function applies a softmax function to the output layer *and* then calculates the log loss."
      ]
    },
    {
      "cell_type": "code",
      "execution_count": 8,
      "metadata": {
        "id": "sl-cRmao-G3v"
      },
      "outputs": [],
      "source": [
        "## TODO: Specify loss and optimization functions\n",
        "\n",
        "# specify loss function\n",
        "criterion = nn.CrossEntropyLoss()\n",
        "\n",
        "# specify optimizer\n",
        "optimizer = torch.optim.SGD(model.parameters(), lr = 0.1, weight_decay = 0.001)"
      ]
    },
    {
      "cell_type": "markdown",
      "metadata": {
        "id": "mgWHR49W-G3v"
      },
      "source": [
        "---\n",
        "## Train the Network\n",
        "\n",
        "The steps for training/learning from a batch of data are described in the comments below:\n",
        "1. Clear the gradients of all optimized variables\n",
        "2. Forward pass: compute predicted outputs by passing inputs to the model\n",
        "3. Calculate the loss\n",
        "4. Backward pass: compute gradient of the loss with respect to model parameters\n",
        "5. Perform a single optimization step (parameter update)\n",
        "6. Update average training loss\n",
        "\n",
        "The following loop trains for 30 epochs; feel free to change this number. For now, we suggest somewhere between 20-50 epochs. As you train, take a look at how the values for the training loss decrease over time. We want it to decrease while also avoiding overfitting the training data."
      ]
    },
    {
      "cell_type": "code",
      "execution_count": 9,
      "metadata": {
        "colab": {
          "base_uri": "https://localhost:8080/"
        },
        "id": "04iJfbyg-G3v",
        "outputId": "8cf383a0-ac03-446b-e539-be2ce8987e7f"
      },
      "outputs": [
        {
          "output_type": "stream",
          "name": "stderr",
          "text": [
            "Training: 100%|███████████████████████████████| 750/750 [00:18<00:00, 40.94it/s]\n",
            "Validating: 100%|█████████████████████████████| 188/188 [00:04<00:00, 46.24it/s]"
          ]
        },
        {
          "output_type": "stream",
          "name": "stdout",
          "text": [
            "Epoch 1: training loss 0.51558, valid loss 0.25147\n"
          ]
        },
        {
          "output_type": "stream",
          "name": "stderr",
          "text": [
            "\n",
            "Training: 100%|███████████████████████████████| 750/750 [00:16<00:00, 45.05it/s]\n",
            "Validating: 100%|█████████████████████████████| 188/188 [00:03<00:00, 59.29it/s]"
          ]
        },
        {
          "output_type": "stream",
          "name": "stdout",
          "text": [
            "Epoch 2: training loss 0.18071, valid loss 0.18496\n"
          ]
        },
        {
          "output_type": "stream",
          "name": "stderr",
          "text": [
            "\n",
            "Training: 100%|███████████████████████████████| 750/750 [00:18<00:00, 41.24it/s]\n",
            "Validating: 100%|█████████████████████████████| 188/188 [00:03<00:00, 59.52it/s]"
          ]
        },
        {
          "output_type": "stream",
          "name": "stdout",
          "text": [
            "Epoch 3: training loss 0.13281, valid loss 0.13521\n"
          ]
        },
        {
          "output_type": "stream",
          "name": "stderr",
          "text": [
            "\n",
            "Training: 100%|███████████████████████████████| 750/750 [00:16<00:00, 44.59it/s]\n",
            "Validating: 100%|█████████████████████████████| 188/188 [00:03<00:00, 56.28it/s]"
          ]
        },
        {
          "output_type": "stream",
          "name": "stdout",
          "text": [
            "Epoch 4: training loss 0.10577, valid loss 0.14557\n"
          ]
        },
        {
          "output_type": "stream",
          "name": "stderr",
          "text": [
            "\n",
            "Training: 100%|███████████████████████████████| 750/750 [00:17<00:00, 42.00it/s]\n",
            "Validating: 100%|█████████████████████████████| 188/188 [00:03<00:00, 58.77it/s]"
          ]
        },
        {
          "output_type": "stream",
          "name": "stdout",
          "text": [
            "Epoch 5: training loss 0.08963, valid loss 0.11459\n"
          ]
        },
        {
          "output_type": "stream",
          "name": "stderr",
          "text": [
            "\n",
            "Training: 100%|███████████████████████████████| 750/750 [00:16<00:00, 44.50it/s]\n",
            "Validating: 100%|█████████████████████████████| 188/188 [00:04<00:00, 42.87it/s]"
          ]
        },
        {
          "output_type": "stream",
          "name": "stdout",
          "text": [
            "Epoch 6: training loss 0.08059, valid loss 0.12191\n"
          ]
        },
        {
          "output_type": "stream",
          "name": "stderr",
          "text": [
            "\n",
            "Training: 100%|███████████████████████████████| 750/750 [00:17<00:00, 42.97it/s]\n",
            "Validating: 100%|█████████████████████████████| 188/188 [00:03<00:00, 59.05it/s]"
          ]
        },
        {
          "output_type": "stream",
          "name": "stdout",
          "text": [
            "Epoch 7: training loss 0.07075, valid loss 0.08855\n"
          ]
        },
        {
          "output_type": "stream",
          "name": "stderr",
          "text": [
            "\n",
            "Training: 100%|███████████████████████████████| 750/750 [00:17<00:00, 43.83it/s]\n",
            "Validating: 100%|█████████████████████████████| 188/188 [00:04<00:00, 44.98it/s]"
          ]
        },
        {
          "output_type": "stream",
          "name": "stdout",
          "text": [
            "Epoch 8: training loss 0.07085, valid loss 0.08750\n"
          ]
        },
        {
          "output_type": "stream",
          "name": "stderr",
          "text": [
            "\n",
            "Training: 100%|███████████████████████████████| 750/750 [00:16<00:00, 44.21it/s]\n",
            "Validating: 100%|█████████████████████████████| 188/188 [00:03<00:00, 58.38it/s]"
          ]
        },
        {
          "output_type": "stream",
          "name": "stdout",
          "text": [
            "Epoch 9: training loss 0.05972, valid loss 0.10082\n"
          ]
        },
        {
          "output_type": "stream",
          "name": "stderr",
          "text": [
            "\n",
            "Training: 100%|███████████████████████████████| 750/750 [00:18<00:00, 40.82it/s]\n",
            "Validating: 100%|█████████████████████████████| 188/188 [00:03<00:00, 58.43it/s]"
          ]
        },
        {
          "output_type": "stream",
          "name": "stdout",
          "text": [
            "Epoch 10: training loss 0.05627, valid loss 0.16506\n"
          ]
        },
        {
          "output_type": "stream",
          "name": "stderr",
          "text": [
            "\n",
            "Training: 100%|███████████████████████████████| 750/750 [00:16<00:00, 44.60it/s]\n",
            "Validating: 100%|█████████████████████████████| 188/188 [00:03<00:00, 51.72it/s]"
          ]
        },
        {
          "output_type": "stream",
          "name": "stdout",
          "text": [
            "Epoch 11: training loss 0.05023, valid loss 0.08596\n"
          ]
        },
        {
          "output_type": "stream",
          "name": "stderr",
          "text": [
            "\n",
            "Training: 100%|███████████████████████████████| 750/750 [00:17<00:00, 42.16it/s]\n",
            "Validating: 100%|█████████████████████████████| 188/188 [00:03<00:00, 58.66it/s]"
          ]
        },
        {
          "output_type": "stream",
          "name": "stdout",
          "text": [
            "Epoch 12: training loss 0.05086, valid loss 0.09721\n"
          ]
        },
        {
          "output_type": "stream",
          "name": "stderr",
          "text": [
            "\n",
            "Training: 100%|███████████████████████████████| 750/750 [00:16<00:00, 44.57it/s]\n",
            "Validating: 100%|█████████████████████████████| 188/188 [00:04<00:00, 40.73it/s]"
          ]
        },
        {
          "output_type": "stream",
          "name": "stdout",
          "text": [
            "Epoch 13: training loss 0.04897, valid loss 0.09292\n"
          ]
        },
        {
          "output_type": "stream",
          "name": "stderr",
          "text": [
            "\n",
            "Training: 100%|███████████████████████████████| 750/750 [00:17<00:00, 44.11it/s]\n",
            "Validating: 100%|█████████████████████████████| 188/188 [00:03<00:00, 58.22it/s]"
          ]
        },
        {
          "output_type": "stream",
          "name": "stdout",
          "text": [
            "Epoch 14: training loss 0.04997, valid loss 0.08558\n"
          ]
        },
        {
          "output_type": "stream",
          "name": "stderr",
          "text": [
            "\n",
            "Training: 100%|███████████████████████████████| 750/750 [00:17<00:00, 43.45it/s]\n",
            "Validating: 100%|█████████████████████████████| 188/188 [00:04<00:00, 46.99it/s]"
          ]
        },
        {
          "output_type": "stream",
          "name": "stdout",
          "text": [
            "Epoch 15: training loss 0.04613, valid loss 0.09071\n"
          ]
        },
        {
          "output_type": "stream",
          "name": "stderr",
          "text": [
            "\n",
            "Training: 100%|███████████████████████████████| 750/750 [00:16<00:00, 44.31it/s]\n",
            "Validating: 100%|█████████████████████████████| 188/188 [00:03<00:00, 57.53it/s]"
          ]
        },
        {
          "output_type": "stream",
          "name": "stdout",
          "text": [
            "Epoch 16: training loss 0.04141, valid loss 0.07192\n"
          ]
        },
        {
          "output_type": "stream",
          "name": "stderr",
          "text": [
            "\n",
            "Training: 100%|███████████████████████████████| 750/750 [00:18<00:00, 40.72it/s]\n",
            "Validating: 100%|█████████████████████████████| 188/188 [00:03<00:00, 57.33it/s]"
          ]
        },
        {
          "output_type": "stream",
          "name": "stdout",
          "text": [
            "Epoch 17: training loss 0.04224, valid loss 0.07679\n"
          ]
        },
        {
          "output_type": "stream",
          "name": "stderr",
          "text": [
            "\n",
            "Training: 100%|███████████████████████████████| 750/750 [00:16<00:00, 44.28it/s]\n",
            "Validating: 100%|█████████████████████████████| 188/188 [00:03<00:00, 48.85it/s]"
          ]
        },
        {
          "output_type": "stream",
          "name": "stdout",
          "text": [
            "Epoch 18: training loss 0.04056, valid loss 0.07549\n"
          ]
        },
        {
          "output_type": "stream",
          "name": "stderr",
          "text": [
            "\n",
            "Training: 100%|███████████████████████████████| 750/750 [00:17<00:00, 42.37it/s]\n",
            "Validating: 100%|█████████████████████████████| 188/188 [00:03<00:00, 57.61it/s]"
          ]
        },
        {
          "output_type": "stream",
          "name": "stdout",
          "text": [
            "Epoch 19: training loss 0.03955, valid loss 0.08170\n"
          ]
        },
        {
          "output_type": "stream",
          "name": "stderr",
          "text": [
            "\n",
            "Training: 100%|███████████████████████████████| 750/750 [00:16<00:00, 44.48it/s]\n",
            "Validating: 100%|█████████████████████████████| 188/188 [00:04<00:00, 41.49it/s]"
          ]
        },
        {
          "output_type": "stream",
          "name": "stdout",
          "text": [
            "Epoch 20: training loss 0.06342, valid loss 0.08258\n"
          ]
        },
        {
          "output_type": "stream",
          "name": "stderr",
          "text": [
            "\n",
            "Training: 100%|███████████████████████████████| 750/750 [00:16<00:00, 44.47it/s]\n",
            "Validating: 100%|█████████████████████████████| 188/188 [00:03<00:00, 57.92it/s]"
          ]
        },
        {
          "output_type": "stream",
          "name": "stdout",
          "text": [
            "Epoch 21: training loss 0.18364, valid loss 0.13045\n"
          ]
        },
        {
          "output_type": "stream",
          "name": "stderr",
          "text": [
            "\n",
            "Training: 100%|███████████████████████████████| 750/750 [00:21<00:00, 35.20it/s]\n",
            "Validating: 100%|█████████████████████████████| 188/188 [00:03<00:00, 57.30it/s]"
          ]
        },
        {
          "output_type": "stream",
          "name": "stdout",
          "text": [
            "Epoch 22: training loss 0.10226, valid loss 0.12728\n"
          ]
        },
        {
          "output_type": "stream",
          "name": "stderr",
          "text": [
            "\n",
            "Training: 100%|███████████████████████████████| 750/750 [00:17<00:00, 43.68it/s]\n",
            "Validating: 100%|█████████████████████████████| 188/188 [00:04<00:00, 45.95it/s]"
          ]
        },
        {
          "output_type": "stream",
          "name": "stdout",
          "text": [
            "Epoch 23: training loss 0.07718, valid loss 0.10281\n"
          ]
        },
        {
          "output_type": "stream",
          "name": "stderr",
          "text": [
            "\n",
            "Training: 100%|███████████████████████████████| 750/750 [00:17<00:00, 42.39it/s]\n",
            "Validating: 100%|█████████████████████████████| 188/188 [00:03<00:00, 57.54it/s]"
          ]
        },
        {
          "output_type": "stream",
          "name": "stdout",
          "text": [
            "Epoch 24: training loss 0.25305, valid loss 0.10834\n"
          ]
        },
        {
          "output_type": "stream",
          "name": "stderr",
          "text": [
            "\n",
            "Training: 100%|███████████████████████████████| 750/750 [00:17<00:00, 43.69it/s]\n",
            "Validating: 100%|█████████████████████████████| 188/188 [00:04<00:00, 40.97it/s]"
          ]
        },
        {
          "output_type": "stream",
          "name": "stdout",
          "text": [
            "Epoch 25: training loss 0.08875, valid loss 0.09860\n"
          ]
        },
        {
          "output_type": "stream",
          "name": "stderr",
          "text": [
            "\n",
            "Training: 100%|███████████████████████████████| 750/750 [00:17<00:00, 43.92it/s]\n",
            "Validating: 100%|█████████████████████████████| 188/188 [00:03<00:00, 57.17it/s]"
          ]
        },
        {
          "output_type": "stream",
          "name": "stdout",
          "text": [
            "Epoch 26: training loss 0.07287, valid loss 0.10730\n"
          ]
        },
        {
          "output_type": "stream",
          "name": "stderr",
          "text": [
            "\n",
            "Training: 100%|███████████████████████████████| 750/750 [00:18<00:00, 40.54it/s]\n",
            "Validating: 100%|█████████████████████████████| 188/188 [00:03<00:00, 57.54it/s]"
          ]
        },
        {
          "output_type": "stream",
          "name": "stdout",
          "text": [
            "Epoch 27: training loss 0.06809, valid loss 0.11289\n"
          ]
        },
        {
          "output_type": "stream",
          "name": "stderr",
          "text": [
            "\n",
            "Training: 100%|███████████████████████████████| 750/750 [00:17<00:00, 43.78it/s]\n",
            "Validating: 100%|█████████████████████████████| 188/188 [00:03<00:00, 49.35it/s]"
          ]
        },
        {
          "output_type": "stream",
          "name": "stdout",
          "text": [
            "Epoch 28: training loss 0.05815, valid loss 0.08470\n"
          ]
        },
        {
          "output_type": "stream",
          "name": "stderr",
          "text": [
            "\n",
            "Training: 100%|███████████████████████████████| 750/750 [00:17<00:00, 41.84it/s]\n",
            "Validating: 100%|█████████████████████████████| 188/188 [00:03<00:00, 57.39it/s]"
          ]
        },
        {
          "output_type": "stream",
          "name": "stdout",
          "text": [
            "Epoch 29: training loss 0.05639, valid loss 0.10344\n"
          ]
        },
        {
          "output_type": "stream",
          "name": "stderr",
          "text": [
            "\n",
            "Training: 100%|███████████████████████████████| 750/750 [00:17<00:00, 42.65it/s]\n",
            "Validating: 100%|█████████████████████████████| 188/188 [00:04<00:00, 39.82it/s]"
          ]
        },
        {
          "output_type": "stream",
          "name": "stdout",
          "text": [
            "Epoch 30: training loss 0.05057, valid loss 0.07881\n"
          ]
        },
        {
          "output_type": "stream",
          "name": "stderr",
          "text": [
            "\n",
            "Training: 100%|███████████████████████████████| 750/750 [00:17<00:00, 43.86it/s]\n",
            "Validating: 100%|█████████████████████████████| 188/188 [00:03<00:00, 56.75it/s]"
          ]
        },
        {
          "output_type": "stream",
          "name": "stdout",
          "text": [
            "Epoch 31: training loss 0.05022, valid loss 0.08576\n"
          ]
        },
        {
          "output_type": "stream",
          "name": "stderr",
          "text": [
            "\n",
            "Training: 100%|███████████████████████████████| 750/750 [00:18<00:00, 41.14it/s]\n",
            "Validating: 100%|█████████████████████████████| 188/188 [00:03<00:00, 54.27it/s]"
          ]
        },
        {
          "output_type": "stream",
          "name": "stdout",
          "text": [
            "Epoch 32: training loss 0.04746, valid loss 0.07751\n"
          ]
        },
        {
          "output_type": "stream",
          "name": "stderr",
          "text": [
            "\n",
            "Training: 100%|███████████████████████████████| 750/750 [00:17<00:00, 43.42it/s]\n",
            "Validating: 100%|█████████████████████████████| 188/188 [00:03<00:00, 53.37it/s]"
          ]
        },
        {
          "output_type": "stream",
          "name": "stdout",
          "text": [
            "Epoch 33: training loss 0.04518, valid loss 0.07745\n"
          ]
        },
        {
          "output_type": "stream",
          "name": "stderr",
          "text": [
            "\n",
            "Training: 100%|███████████████████████████████| 750/750 [00:18<00:00, 41.04it/s]\n",
            "Validating: 100%|█████████████████████████████| 188/188 [00:03<00:00, 58.14it/s]"
          ]
        },
        {
          "output_type": "stream",
          "name": "stdout",
          "text": [
            "Epoch 34: training loss 0.04285, valid loss 0.08709\n"
          ]
        },
        {
          "output_type": "stream",
          "name": "stderr",
          "text": [
            "\n",
            "Training: 100%|███████████████████████████████| 750/750 [00:17<00:00, 44.08it/s]\n",
            "Validating: 100%|█████████████████████████████| 188/188 [00:04<00:00, 39.45it/s]"
          ]
        },
        {
          "output_type": "stream",
          "name": "stdout",
          "text": [
            "Epoch 35: training loss 0.04300, valid loss 0.08595\n"
          ]
        },
        {
          "output_type": "stream",
          "name": "stderr",
          "text": [
            "\n",
            "Training: 100%|███████████████████████████████| 750/750 [00:17<00:00, 42.92it/s]\n",
            "Validating: 100%|█████████████████████████████| 188/188 [00:03<00:00, 55.98it/s]"
          ]
        },
        {
          "output_type": "stream",
          "name": "stdout",
          "text": [
            "Epoch 36: training loss 0.04158, valid loss 0.07874\n"
          ]
        },
        {
          "output_type": "stream",
          "name": "stderr",
          "text": [
            "\n",
            "Training: 100%|███████████████████████████████| 750/750 [00:18<00:00, 39.77it/s]\n",
            "Validating: 100%|█████████████████████████████| 188/188 [00:03<00:00, 57.22it/s]"
          ]
        },
        {
          "output_type": "stream",
          "name": "stdout",
          "text": [
            "Epoch 37: training loss 0.04097, valid loss 0.07809\n"
          ]
        },
        {
          "output_type": "stream",
          "name": "stderr",
          "text": [
            "\n",
            "Training: 100%|███████████████████████████████| 750/750 [00:17<00:00, 43.35it/s]\n",
            "Validating: 100%|█████████████████████████████| 188/188 [00:03<00:00, 49.46it/s]"
          ]
        },
        {
          "output_type": "stream",
          "name": "stdout",
          "text": [
            "Epoch 38: training loss 0.06842, valid loss 0.10236\n"
          ]
        },
        {
          "output_type": "stream",
          "name": "stderr",
          "text": [
            "\n",
            "Training: 100%|███████████████████████████████| 750/750 [00:17<00:00, 41.72it/s]\n",
            "Validating: 100%|█████████████████████████████| 188/188 [00:03<00:00, 56.39it/s]"
          ]
        },
        {
          "output_type": "stream",
          "name": "stdout",
          "text": [
            "Epoch 39: training loss 0.05622, valid loss 0.08839\n"
          ]
        },
        {
          "output_type": "stream",
          "name": "stderr",
          "text": [
            "\n",
            "Training: 100%|███████████████████████████████| 750/750 [00:17<00:00, 43.37it/s]\n",
            "Validating: 100%|█████████████████████████████| 188/188 [00:04<00:00, 40.19it/s]"
          ]
        },
        {
          "output_type": "stream",
          "name": "stdout",
          "text": [
            "Epoch 40: training loss 0.04762, valid loss 0.08580\n"
          ]
        },
        {
          "output_type": "stream",
          "name": "stderr",
          "text": [
            "\n",
            "Training: 100%|███████████████████████████████| 750/750 [00:17<00:00, 43.62it/s]\n",
            "Validating: 100%|█████████████████████████████| 188/188 [00:03<00:00, 57.84it/s]"
          ]
        },
        {
          "output_type": "stream",
          "name": "stdout",
          "text": [
            "Epoch 41: training loss 0.06387, valid loss 0.08092\n"
          ]
        },
        {
          "output_type": "stream",
          "name": "stderr",
          "text": [
            "\n",
            "Training: 100%|███████████████████████████████| 750/750 [00:18<00:00, 40.48it/s]\n",
            "Validating: 100%|█████████████████████████████| 188/188 [00:03<00:00, 56.96it/s]"
          ]
        },
        {
          "output_type": "stream",
          "name": "stdout",
          "text": [
            "Epoch 42: training loss 0.04685, valid loss 0.07392\n"
          ]
        },
        {
          "output_type": "stream",
          "name": "stderr",
          "text": [
            "\n",
            "Training: 100%|███████████████████████████████| 750/750 [00:17<00:00, 43.68it/s]\n",
            "Validating: 100%|█████████████████████████████| 188/188 [00:03<00:00, 50.47it/s]"
          ]
        },
        {
          "output_type": "stream",
          "name": "stdout",
          "text": [
            "Epoch 43: training loss 0.04353, valid loss 0.07950\n"
          ]
        },
        {
          "output_type": "stream",
          "name": "stderr",
          "text": [
            "\n",
            "Training: 100%|███████████████████████████████| 750/750 [00:18<00:00, 41.30it/s]\n",
            "Validating: 100%|█████████████████████████████| 188/188 [00:03<00:00, 56.58it/s]"
          ]
        },
        {
          "output_type": "stream",
          "name": "stdout",
          "text": [
            "Epoch 44: training loss 0.04235, valid loss 0.08348\n"
          ]
        },
        {
          "output_type": "stream",
          "name": "stderr",
          "text": [
            "\n",
            "Training: 100%|███████████████████████████████| 750/750 [00:17<00:00, 42.88it/s]\n",
            "Validating: 100%|█████████████████████████████| 188/188 [00:04<00:00, 42.57it/s]"
          ]
        },
        {
          "output_type": "stream",
          "name": "stdout",
          "text": [
            "Epoch 45: training loss 0.03944, valid loss 0.07366\n"
          ]
        },
        {
          "output_type": "stream",
          "name": "stderr",
          "text": [
            "\n",
            "Training: 100%|███████████████████████████████| 750/750 [00:17<00:00, 43.87it/s]\n",
            "Validating: 100%|█████████████████████████████| 188/188 [00:03<00:00, 56.54it/s]"
          ]
        },
        {
          "output_type": "stream",
          "name": "stdout",
          "text": [
            "Epoch 46: training loss 0.07291, valid loss 0.11282\n"
          ]
        },
        {
          "output_type": "stream",
          "name": "stderr",
          "text": [
            "\n",
            "Training: 100%|███████████████████████████████| 750/750 [00:18<00:00, 40.27it/s]\n",
            "Validating: 100%|█████████████████████████████| 188/188 [00:03<00:00, 57.07it/s]"
          ]
        },
        {
          "output_type": "stream",
          "name": "stdout",
          "text": [
            "Epoch 47: training loss 0.06039, valid loss 0.09769\n"
          ]
        },
        {
          "output_type": "stream",
          "name": "stderr",
          "text": [
            "\n",
            "Training: 100%|███████████████████████████████| 750/750 [00:17<00:00, 43.48it/s]\n",
            "Validating: 100%|█████████████████████████████| 188/188 [00:04<00:00, 43.59it/s]"
          ]
        },
        {
          "output_type": "stream",
          "name": "stdout",
          "text": [
            "Epoch 48: training loss 0.04660, valid loss 0.09157\n"
          ]
        },
        {
          "output_type": "stream",
          "name": "stderr",
          "text": [
            "\n",
            "Training: 100%|███████████████████████████████| 750/750 [00:17<00:00, 43.11it/s]\n",
            "Validating: 100%|█████████████████████████████| 188/188 [00:03<00:00, 56.91it/s]"
          ]
        },
        {
          "output_type": "stream",
          "name": "stdout",
          "text": [
            "Epoch 49: training loss 0.04430, valid loss 0.08492\n"
          ]
        },
        {
          "output_type": "stream",
          "name": "stderr",
          "text": [
            "\n",
            "Training: 100%|███████████████████████████████| 750/750 [00:21<00:00, 35.20it/s]\n",
            "Validating: 100%|█████████████████████████████| 188/188 [00:03<00:00, 57.36it/s]"
          ]
        },
        {
          "output_type": "stream",
          "name": "stdout",
          "text": [
            "Epoch 50: training loss 0.04120, valid loss 0.07625\n"
          ]
        },
        {
          "output_type": "stream",
          "name": "stderr",
          "text": [
            "\n"
          ]
        }
      ],
      "source": [
        "# number of epochs to train the model\n",
        "n_epochs = 50  # suggest training between 20-50 epochs\n",
        "\n",
        "model.train() # prep model for training\n",
        "\n",
        "for epoch in range(n_epochs):\n",
        "    # monitor training loss\n",
        "    train_loss = 0.0\n",
        "\n",
        "    ###################\n",
        "    # train the model #\n",
        "    ###################\n",
        "    for batch_idx, (data, target) in tqdm(\n",
        "            enumerate(train_loader),\n",
        "            desc=\"Training\",\n",
        "            total=len(train_loader),\n",
        "            leave=True,\n",
        "            ncols=80,\n",
        "        ):\n",
        "        # clear the gradients of all optimized variables\n",
        "        optimizer.zero_grad()\n",
        "        # forward pass: compute predicted outputs by passing inputs to the model\n",
        "        output = model(data)\n",
        "        # calculate the loss\n",
        "        loss = criterion(output, target)\n",
        "        # backward pass: compute gradient of the loss with respect to model parameters\n",
        "        loss.backward()\n",
        "        # perform a single optimization step (parameter update)\n",
        "        optimizer.step()\n",
        "        # update running training loss\n",
        "        train_loss += loss.item()*data.size(0)\n",
        "\n",
        "    # print training statistics\n",
        "    # calculate average loss over an epoch\n",
        "    train_loss = train_loss/len(train_loader.dataset)\n",
        "\n",
        "    # Validate\n",
        "    with torch.no_grad():\n",
        "\n",
        "        # set the model to evaluation mode\n",
        "        model.eval()\n",
        "\n",
        "        valid_loss = 0.0\n",
        "        for batch_idx, (data, target) in tqdm(\n",
        "            enumerate(val_loader),\n",
        "            desc=\"Validating\",\n",
        "            total=len(val_loader),\n",
        "            leave=True,\n",
        "            ncols=80,\n",
        "        ):\n",
        "\n",
        "            # 1. forward pass: compute predicted outputs by passing inputs to the model\n",
        "            output = model(data)  # =\n",
        "            # 2. calculate the loss\n",
        "            loss_value = criterion(output, target)  # =\n",
        "\n",
        "            # Calculate average validation loss\n",
        "            valid_loss = valid_loss + (\n",
        "                (1 / (batch_idx + 1)) * (loss_value.data.item() - valid_loss)\n",
        "            )\n",
        "\n",
        "    print(f\"Epoch {epoch+1}: training loss {train_loss:.5f}, valid loss {valid_loss:.5f}\")"
      ]
    },
    {
      "cell_type": "markdown",
      "metadata": {
        "id": "ABx88zvZ-G3w"
      },
      "source": [
        "---\n",
        "## Test the Trained Network\n",
        "\n",
        "Finally, we test our best model on previously unseen **test data** and evaluate it's performance. Testing on unseen data is a good way to check that our model generalizes well. It may also be useful to be granular in this analysis and take a look at how this model performs on each class as well as looking at its overall loss and accuracy.\n",
        "\n",
        "#### `model.eval()`\n",
        "\n",
        "`model.eval(`) will set all the layers in your model to evaluation mode. This affects layers like dropout layers that turn \"off\" nodes during training with some probability, but should allow every node to be \"on\" for evaluation!"
      ]
    },
    {
      "cell_type": "code",
      "execution_count": 10,
      "metadata": {
        "colab": {
          "base_uri": "https://localhost:8080/"
        },
        "id": "92IA8aDR-G3x",
        "outputId": "fb50e674-7762-4856-b140-9733f298e038"
      },
      "outputs": [
        {
          "output_type": "stream",
          "name": "stderr",
          "text": [
            "Testing: 100%|████████████████████████████████| 157/157 [00:02<00:00, 54.48it/s]"
          ]
        },
        {
          "output_type": "stream",
          "name": "stdout",
          "text": [
            "Test Loss: 0.067300\n",
            "\n",
            "Test Accuracy of 0: 98.88%% (969/980)\n",
            "Test Accuracy of 1: 99.12%% (1125/1135)\n",
            "Test Accuracy of 2: 97.09%% (1002/1032)\n",
            "Test Accuracy of 3: 97.52%% (985/1010)\n",
            "Test Accuracy of 4: 96.33%% (946/982)\n",
            "Test Accuracy of 5: 98.43%% (878/892)\n",
            "Test Accuracy of 6: 97.49%% (934/958)\n",
            "Test Accuracy of 7: 98.64%% (1014/1028)\n",
            "Test Accuracy of 8: 97.54%% (950/974)\n",
            "Test Accuracy of 9: 97.22%% (981/1009)\n",
            "\n",
            "Test Accuracy (Overall): 97.84%% (9784/10000)\n"
          ]
        },
        {
          "output_type": "stream",
          "name": "stderr",
          "text": [
            "\n"
          ]
        }
      ],
      "source": [
        "# initialize lists to monitor test loss and accuracy\n",
        "test_loss = 0.0\n",
        "class_correct = list(0.0 for i in range(10))\n",
        "class_total = list(0.0 for i in range(10))\n",
        "\n",
        "model.eval()  # prep model for *evaluation*\n",
        "\n",
        "for batch_idx, (data, target) in tqdm(\n",
        "    enumerate(test_loader),\n",
        "    desc=\"Testing\",\n",
        "    total=len(test_loader),\n",
        "    leave=True,\n",
        "    ncols=80,\n",
        "):\n",
        "    # forward pass: compute predicted outputs by passing inputs to the model\n",
        "    output = model(data)\n",
        "    # calculate the loss\n",
        "    loss = criterion(output, target)\n",
        "    # update test loss\n",
        "    test_loss += loss.item() * data.size(0)\n",
        "    # convert output probabilities to predicted class\n",
        "    _, pred = torch.max(output, 1)\n",
        "    # compare predictions to true label\n",
        "    correct = np.squeeze(pred.eq(target.data.view_as(pred)))\n",
        "    # calculate test accuracy for each object class\n",
        "    for i in range(data.shape[0]):\n",
        "        label = target.data[i]\n",
        "        class_correct[label] += correct[i].item()\n",
        "        class_total[label] += 1\n",
        "\n",
        "# calculate and print avg test loss\n",
        "test_loss = test_loss / len(test_loader.dataset)\n",
        "print(f\"Test Loss: {test_loss:.6f}\\n\")\n",
        "\n",
        "for i in range(10):\n",
        "    if class_total[i] > 0:\n",
        "        print(\n",
        "            f\"Test Accuracy of {i}: {100 * class_correct[i] / class_total[i]:.2f}%% \"\n",
        "            f\"({int(np.sum(class_correct[i]))}/{int(np.sum(class_total[i]))})\"\n",
        "        )\n",
        "    else:\n",
        "        print(f\"Test Accuracy of {classes[i]}: N/A (no training examples)\")\n",
        "\n",
        "print(\n",
        "    f\"\\nTest Accuracy (Overall): {100.0 * np.sum(class_correct) / np.sum(class_total)}%% \"\n",
        "    f\"({int(np.sum(class_correct))}/{int(np.sum(class_total))})\"\n",
        ")"
      ]
    },
    {
      "cell_type": "markdown",
      "metadata": {
        "id": "vQZI_iI0-G3y"
      },
      "source": [
        "### Visualize Sample Test Results\n",
        "\n",
        "This cell displays test images and their labels in this format: `predicted (ground-truth)`. The text will be green for accurately classified examples and red for incorrect predictions."
      ]
    },
    {
      "cell_type": "code",
      "execution_count": 12,
      "metadata": {
        "id": "j0B8yq6L-G3y"
      },
      "outputs": [],
      "source": [
        "# # obtain one batch of test images\n",
        "# dataiter = iter(test_loader)\n",
        "# images, labels = dataiter.next()\n",
        "\n",
        "# # get sample outputs\n",
        "# output = model(images)\n",
        "# # convert output probabilities to predicted class\n",
        "# _, preds = torch.max(output, 1)\n",
        "# # prep images for display\n",
        "# images = images.numpy()\n",
        "\n",
        "# # plot the images in the batch, along with predicted and true labels\n",
        "# fig, subs = plt.subplots(2, 10, figsize=(25, 4))\n",
        "# for idx, sub in zip(range(20), subs.flatten()):\n",
        "#     sub.imshow(np.squeeze(images[idx]), cmap='gray')\n",
        "#     sub.set_title(f\"{str(preds[idx].item())} ({str(labels[idx].item())})\",\n",
        "#                  color=(\"green\" if preds[idx]==labels[idx] else \"red\"))\n",
        "#     sub.axis(\"off\")"
      ]
    },
    {
      "cell_type": "code",
      "execution_count": null,
      "metadata": {
        "id": "hbWloQEd-G3z"
      },
      "outputs": [],
      "source": []
    }
  ],
  "metadata": {
    "anaconda-cloud": {},
    "kernelspec": {
      "display_name": "Python 3",
      "language": "python",
      "name": "python3"
    },
    "language_info": {
      "codemirror_mode": {
        "name": "ipython",
        "version": 3
      },
      "file_extension": ".py",
      "mimetype": "text/x-python",
      "name": "python",
      "nbconvert_exporter": "python",
      "pygments_lexer": "ipython3",
      "version": "3.7.6"
    },
    "colab": {
      "provenance": [],
      "include_colab_link": true
    }
  },
  "nbformat": 4,
  "nbformat_minor": 0
}